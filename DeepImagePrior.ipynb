{
 "cells": [
  {
   "cell_type": "markdown",
   "source": [
    "Reproducing Deep Image Prior paper\n",
    "=====================\n",
    "\n",
    "In this notebook we reproduce Table 1 in Deep Image Prior paper. Although the authors of the paper made the code available online, this is out approach to independently reproduce thair results. \n",
    "We developed the code in Jupyter notebook and it is compatible with Google Colab platform to be used with GPU.\n",
    "\n",
    "\n",
    "## What is Deep Image Prior\n",
    "\n",
    "In the paper, the authors argue that a great\n",
    "deal of image statistics are captured by the structure of\n",
    "a convolutional image generator independent of learning.\n",
    "What it means is that we can train the generator netowrk on a single degraded image, instead of large dataset of example images,\n",
    "to reconstruct the image. In this scheme, the network weights serve\n",
    "as a parametrization of the restored image.\n",
    "\n",
    "\n",
    "## How does it work?\n",
    "\n",
    "Lets assume that our image x is under following process:\n",
    "\n",
    "$ x \\Rightarrow Degradation \\Rightarrow  \\hat{x} \\Rightarrow  Restoration \\Rightarrow x^{*} $\n",
    "\n",
    "Our goal is to find $ x^{*}$.\n",
    "We can do that by finding the MAP estimate of our posterior distribution of clean images:\n",
    "\n",
    "\\begin{equation}\n",
    "MAP: x^{*} = argmax_{x} p(x|\\hat{x})\n",
    "\\end{equation}\n",
    "\n",
    "As it is usually the case, obtaining posterior distribution $p(x|\\hat{x})$ is intractable. We can rewrite the equation using Bayes theorem:\n",
    "\n",
    "\\begin{equation}\n",
    "p(x|\\hat{x}) = \\frac{p(\\hat{x}|x)p(x)}{p(\\hat{x})} \\sim p(\\hat{x}|x)p(x)\n",
    "\\end{equation}\n",
    "\n",
    "\n",
    "to be continued...\n"
   ],
   "metadata": {
    "collapsed": false,
    "pycharm": {
     "name": "#%% md\n"
    }
   }
  }
 ],
 "metadata": {
  "kernelspec": {
   "display_name": "Python 3",
   "language": "python",
   "name": "python3"
  },
  "language_info": {
   "codemirror_mode": {
    "name": "ipython",
    "version": 2
   },
   "file_extension": ".py",
   "mimetype": "text/x-python",
   "name": "python",
   "nbconvert_exporter": "python",
   "pygments_lexer": "ipython2",
   "version": "2.7.6"
  },
  "pycharm": {
   "stem_cell": {
    "cell_type": "raw",
    "source": [],
    "metadata": {
     "collapsed": false
    }
   }
  }
 },
 "nbformat": 4,
 "nbformat_minor": 0
}